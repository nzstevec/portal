{
 "cells": [
  {
   "cell_type": "code",
   "execution_count": 2,
   "metadata": {},
   "outputs": [
    {
     "name": "stdout",
     "output_type": "stream",
     "text": [
      "{\"NAME\": \"John\", \"AGE\": 30, \"CITY\": \"New York\"}\n"
     ]
    }
   ],
   "source": [
    "import json\n",
    "\n",
    "json_str = '{\"name\": \"John\", \"age\": 30, \"city\": \"New York\"}'\n",
    "json_obj = json.loads(json_str)\n",
    "\n",
    "# convert keys to uppercase\n",
    "uppercase_json_obj = {k.upper(): v for k, v in json_obj.items()}\n",
    "\n",
    "# convert back to JSON string\n",
    "uppercase_json_str = json.dumps(uppercase_json_obj)\n",
    "\n",
    "print(uppercase_json_str)"
   ]
  }
 ],
 "metadata": {
  "kernelspec": {
   "display_name": "portal-backend",
   "language": "python",
   "name": "python3"
  },
  "language_info": {
   "codemirror_mode": {
    "name": "ipython",
    "version": 3
   },
   "file_extension": ".py",
   "mimetype": "text/x-python",
   "name": "python",
   "nbconvert_exporter": "python",
   "pygments_lexer": "ipython3",
   "version": "3.12.5"
  }
 },
 "nbformat": 4,
 "nbformat_minor": 2
}
